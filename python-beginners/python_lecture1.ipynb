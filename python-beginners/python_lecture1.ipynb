{
 "worksheets": [
  {
   "cells": [
    {
     "cell_type": "heading",
     "metadata": {},
     "level": 3,
     "source": [
      "Вступление"
     ]
    },
    {
     "cell_type": "code",
     "execution_count": null,
     "metadata": {},
     "outputs": [],
     "input": [
      "import antigravity # ???"
     ],
     "language": "python",
     "prompt_number": 1
    },
    {
     "cell_type": "code",
     "execution_count": null,
     "metadata": {},
     "outputs": [
      {
       "output_type": "stream",
       "stream": "stdout",
       "text": [
        "The Zen of Python, by Tim Peters\n",
        "\n",
        "Beautiful is better than ugly.\n",
        "Explicit is better than implicit.\n",
        "Simple is better than complex.\n",
        "Complex is better than complicated.\n",
        "Flat is better than nested.\n",
        "Sparse is better than dense.\n",
        "Readability counts.\n",
        "Special cases aren't special enough to break the rules.\n",
        "Although practicality beats purity.\n",
        "Errors should never pass silently.\n",
        "Unless explicitly silenced.\n",
        "In the face of ambiguity, refuse the temptation to guess.\n",
        "There should be one-- and preferably only one --obvious way to do it.\n",
        "Although that way may not be obvious at first unless you're Dutch.\n",
        "Now is better than never.\n",
        "Although never is often better than *right* now.\n",
        "If the implementation is hard to explain, it's a bad idea.\n",
        "If the implementation is easy to explain, it may be a good idea.\n",
        "Namespaces are one honking great idea -- let's do more of those!\n"
       ]
      }
     ],
     "input": [
      "import this"
     ],
     "language": "python",
     "prompt_number": 2
    },
    {
     "cell_type": "code",
     "execution_count": null,
     "metadata": {},
     "outputs": [
      {
       "output_type": "stream",
       "stream": "stdout",
       "text": [
        "2.7.6 (default, Mar 22 2014, 22:59:56) \n",
        "[GCC 4.8.2]\n"
       ]
      }
     ],
     "input": [
      "import os\n",
      "print os.sys.version"
     ],
     "language": "python",
     "prompt_number": 3
    },
    {
     "cell_type": "heading",
     "metadata": {},
     "level": 3,
     "source": [
      "Python-калькулятор (интерактивный режим)"
     ]
    },
    {
     "cell_type": "code",
     "execution_count": null,
     "metadata": {},
     "outputs": [
      {
       "output_type": "pyout",
       "prompt_number": 4,
       "text": [
        "4"
       ],
       "metadata": {}
      }
     ],
     "input": [
      "2 + 2"
     ],
     "language": "python",
     "prompt_number": 4
    },
    {
     "cell_type": "code",
     "execution_count": null,
     "metadata": {},
     "outputs": [
      {
       "output_type": "pyout",
       "prompt_number": 5,
       "text": [
        "31536000"
       ],
       "metadata": {}
      }
     ],
     "input": [
      "365 * 24 * 60 * 60"
     ],
     "language": "python",
     "prompt_number": 5
    },
    {
     "cell_type": "code",
     "execution_count": null,
     "metadata": {},
     "outputs": [
      {
       "output_type": "pyout",
       "prompt_number": 6,
       "text": [
        "(2, 1)"
       ],
       "metadata": {}
      }
     ],
     "input": [
      "4/2, 5/3"
     ],
     "language": "python",
     "prompt_number": 6
    },
    {
     "cell_type": "code",
     "execution_count": null,
     "metadata": {},
     "outputs": [
      {
       "output_type": "pyout",
       "prompt_number": 7,
       "text": [
        "(2, -3)"
       ],
       "metadata": {}
      }
     ],
     "input": [
      "7/3, -7/3"
     ],
     "language": "python",
     "prompt_number": 7
    },
    {
     "cell_type": "code",
     "execution_count": null,
     "metadata": {},
     "outputs": [
      {
       "output_type": "pyout",
       "prompt_number": 8,
       "text": [
        "(0, 0.5)"
       ],
       "metadata": {}
      }
     ],
     "input": [
      "1/2, 1/2.0"
     ],
     "language": "python",
     "prompt_number": 8
    },
    {
     "cell_type": "code",
     "execution_count": null,
     "metadata": {},
     "outputs": [],
     "input": [
      "width = 10; height = 20; length = 3"
     ],
     "language": "python",
     "prompt_number": 9
    },
    {
     "cell_type": "code",
     "execution_count": null,
     "metadata": {},
     "outputs": [
      {
       "output_type": "pyout",
       "prompt_number": 10,
       "text": [
        "600"
       ],
       "metadata": {}
      }
     ],
     "input": [
      "width * height * length"
     ],
     "language": "python",
     "prompt_number": 10
    },
    {
     "cell_type": "code",
     "execution_count": null,
     "metadata": {},
     "outputs": [],
     "input": [
      "x = y = z = 0"
     ],
     "language": "python",
     "prompt_number": 11
    },
    {
     "cell_type": "code",
     "execution_count": null,
     "metadata": {},
     "outputs": [
      {
       "output_type": "pyout",
       "prompt_number": 12,
       "text": [
        "(0, 0, 0)"
       ],
       "metadata": {}
      }
     ],
     "input": [
      "x, y, z"
     ],
     "language": "python",
     "prompt_number": 12
    },
    {
     "cell_type": "heading",
     "metadata": {},
     "level": 4,
     "source": [
      "Комплексные числа"
     ]
    },
    {
     "cell_type": "code",
     "execution_count": null,
     "metadata": {},
     "outputs": [
      {
       "output_type": "pyout",
       "prompt_number": 13,
       "text": [
        "(1+1j)"
       ],
       "metadata": {}
      }
     ],
     "input": [
      "1J + 1"
     ],
     "language": "python",
     "prompt_number": 13
    },
    {
     "cell_type": "code",
     "execution_count": null,
     "metadata": {},
     "outputs": [
      {
       "output_type": "pyout",
       "prompt_number": 14,
       "text": [
        "(-1+0j)"
       ],
       "metadata": {}
      }
     ],
     "input": [
      "1J * 1j"
     ],
     "language": "python",
     "prompt_number": 14
    },
    {
     "cell_type": "code",
     "execution_count": null,
     "metadata": {},
     "outputs": [
      {
       "output_type": "pyout",
       "prompt_number": 15,
       "text": [
        "(-6+2j)"
       ],
       "metadata": {}
      }
     ],
     "input": [
      "(1+3j) * 2j"
     ],
     "language": "python",
     "prompt_number": 15
    },
    {
     "cell_type": "code",
     "execution_count": null,
     "metadata": {},
     "outputs": [],
     "input": [
      "a = 1.5 + 2j"
     ],
     "language": "python",
     "prompt_number": 16
    },
    {
     "cell_type": "code",
     "execution_count": null,
     "metadata": {},
     "outputs": [
      {
       "output_type": "pyout",
       "prompt_number": 17,
       "text": [
        "(1.5, 2.0)"
       ],
       "metadata": {}
      }
     ],
     "input": [
      "a.real, a.imag"
     ],
     "language": "python",
     "prompt_number": 17
    },
    {
     "cell_type": "heading",
     "metadata": {},
     "level": 4,
     "source": [
      "Строки"
     ]
    },
    {
     "cell_type": "code",
     "execution_count": null,
     "metadata": {},
     "outputs": [
      {
       "output_type": "pyout",
       "prompt_number": 18,
       "text": [
        "'sputnik'"
       ],
       "metadata": {}
      }
     ],
     "input": [
      "'sputnik'"
     ],
     "language": "python",
     "prompt_number": 18
    },
    {
     "cell_type": "code",
     "execution_count": null,
     "metadata": {},
     "outputs": [
      {
       "output_type": "pyout",
       "prompt_number": 19,
       "text": [
        "\"doesn't\""
       ],
       "metadata": {}
      }
     ],
     "input": [
      "\"doesn't\""
     ],
     "language": "python",
     "prompt_number": 19
    },
    {
     "cell_type": "code",
     "execution_count": null,
     "metadata": {},
     "outputs": [],
     "input": [
      "hello = \"Это длинное строковое выражение, содержащее\\n\\\n",
      "несколько строк текста, как Вы бы это сделали в С.\\n\\\n",
      "    Обратите внимание, что пробелы в\\\n",
      "начале строки\\nимеют значение.\\n\""
     ],
     "language": "python",
     "prompt_number": 20
    },
    {
     "cell_type": "code",
     "execution_count": null,
     "metadata": {},
     "outputs": [
      {
       "output_type": "stream",
       "stream": "stdout",
       "text": [
        "Это длинное строковое выражение, содержащее\n",
        "несколько строк текста, как Вы бы это сделали в С.\n",
        "    Обратите внимание, что пробелы вначале строки\n",
        "имеют значение.\n",
        "\n"
       ]
      }
     ],
     "input": [
      "print hello"
     ],
     "language": "python",
     "prompt_number": 21
    },
    {
     "cell_type": "code",
     "execution_count": null,
     "metadata": {},
     "outputs": [
      {
       "output_type": "pyout",
       "prompt_number": 22,
       "text": [
        "290"
       ],
       "metadata": {}
      }
     ],
     "input": [
      "len(hello)"
     ],
     "language": "python",
     "prompt_number": 22
    },
    {
     "cell_type": "code",
     "execution_count": null,
     "metadata": {},
     "outputs": [],
     "input": [
      "s = \"tro\" + 5 * 'lo'"
     ],
     "language": "python",
     "prompt_number": 23
    },
    {
     "cell_type": "code",
     "execution_count": null,
     "metadata": {},
     "outputs": [
      {
       "output_type": "pyout",
       "prompt_number": 24,
       "text": [
        "'trolololololo'"
       ],
       "metadata": {}
      }
     ],
     "input": [
      "s"
     ],
     "language": "python",
     "prompt_number": 24
    },
    {
     "cell_type": "code",
     "execution_count": null,
     "metadata": {},
     "outputs": [
      {
       "output_type": "pyout",
       "prompt_number": 25,
       "text": [
        "('t', 'o', 'l')"
       ],
       "metadata": {}
      }
     ],
     "input": [
      "s[0], s[6], s[9]"
     ],
     "language": "python",
     "prompt_number": 25
    },
    {
     "cell_type": "code",
     "execution_count": null,
     "metadata": {},
     "outputs": [
      {
       "ename": "TypeError",
       "evalue": "'str' object does not support item assignment",
       "output_type": "pyerr",
       "traceback": [
        "\u001b[0;31m---------------------------------------------------------------------------\u001b[0m\n\u001b[0;31mTypeError\u001b[0m                                 Traceback (most recent call last)",
        "\u001b[0;32m<ipython-input-26-781fb1055b50>\u001b[0m in \u001b[0;36m<module>\u001b[0;34m()\u001b[0m\n\u001b[0;32m----> 1\u001b[0;31m \u001b[0ms\u001b[0m\u001b[0;34m[\u001b[0m\u001b[0;36m0\u001b[0m\u001b[0;34m]\u001b[0m \u001b[0;34m=\u001b[0m \u001b[0;34m'f'\u001b[0m\u001b[0;34m\u001b[0m\u001b[0m\n\u001b[0m",
        "\u001b[0;31mTypeError\u001b[0m: 'str' object does not support item assignment"
       ]
      }
     ],
     "input": [
      "s[0] = 'f'"
     ],
     "language": "python",
     "prompt_number": 26
    },
    {
     "cell_type": "heading",
     "metadata": {},
     "level": 3,
     "source": [
      "Встроенные типы данных"
     ]
    },
    {
     "cell_type": "heading",
     "metadata": {},
     "level": 4,
     "source": [
      "Числовые типы"
     ]
    },
    {
     "cell_type": "code",
     "execution_count": null,
     "metadata": {},
     "outputs": [],
     "input": [
      "5 + 2, 4.-9"
     ],
     "language": "python"
    },
    {
     "cell_type": "code",
     "execution_count": null,
     "metadata": {},
     "outputs": [],
     "input": [
      "2 * 3., 3 / 2"
     ],
     "language": "python"
    },
    {
     "cell_type": "code",
     "execution_count": null,
     "metadata": {},
     "outputs": [],
     "input": [
      "3 % 2, 33 % 2"
     ],
     "language": "python"
    },
    {
     "cell_type": "code",
     "execution_count": null,
     "metadata": {},
     "outputs": [],
     "input": [
      "divmod(3,2), divmod(33, 2)"
     ],
     "language": "python"
    },
    {
     "cell_type": "code",
     "execution_count": null,
     "metadata": {},
     "outputs": [],
     "input": [
      "x = -2\n",
      "-x, +x, abs(x)"
     ],
     "language": "python"
    },
    {
     "cell_type": "code",
     "execution_count": null,
     "metadata": {},
     "outputs": [
      {
       "output_type": "pyout",
       "prompt_number": 27,
       "text": [
        "(2, 5.0, 1L)"
       ],
       "metadata": {}
      }
     ],
     "input": [
      "int(2.5), float(5), long(1)"
     ],
     "language": "python",
     "prompt_number": 27
    },
    {
     "cell_type": "code",
     "execution_count": null,
     "metadata": {},
     "outputs": [
      {
       "output_type": "pyout",
       "prompt_number": 28,
       "text": [
        "(8, 9)"
       ],
       "metadata": {}
      }
     ],
     "input": [
      "pow(2,3), 3**2"
     ],
     "language": "python",
     "prompt_number": 28
    },
    {
     "cell_type": "code",
     "execution_count": null,
     "metadata": {},
     "outputs": [
      {
       "output_type": "pyout",
       "prompt_number": 29,
       "text": [
        "(100, 45, 175)"
       ],
       "metadata": {}
      }
     ],
     "input": [
      "100, 055, 0xAF"
     ],
     "language": "python",
     "prompt_number": 29
    },
    {
     "cell_type": "code",
     "execution_count": null,
     "metadata": {},
     "outputs": [
      {
       "output_type": "pyout",
       "prompt_number": 30,
       "text": [
        "(175, '0144', '0x2d')"
       ],
       "metadata": {}
      }
     ],
     "input": [
      "int(0xAF), oct(100), hex(055)"
     ],
     "language": "python",
     "prompt_number": 30
    },
    {
     "cell_type": "heading",
     "metadata": {},
     "level": 4,
     "source": [
      "Истинность, bool, булевы операторы"
     ]
    },
    {
     "cell_type": "code",
     "execution_count": null,
     "metadata": {},
     "outputs": [
      {
       "output_type": "pyout",
       "prompt_number": 31,
       "text": [
        "(bool, bool, int)"
       ],
       "metadata": {}
      }
     ],
     "input": [
      "type(True), type(False), type(0)"
     ],
     "language": "python",
     "prompt_number": 31
    },
    {
     "cell_type": "code",
     "execution_count": null,
     "metadata": {},
     "outputs": [
      {
       "output_type": "pyout",
       "prompt_number": 32,
       "text": [
        "(False, True, True)"
       ],
       "metadata": {}
      }
     ],
     "input": [
      "bool(0), bool([1,2,3]), bool(\"hello\")"
     ],
     "language": "python",
     "prompt_number": 32
    },
    {
     "cell_type": "markdown",
     "metadata": {},
     "source": [
      "x or y (если x ложно, то y, иначе x)"
     ]
    },
    {
     "cell_type": "code",
     "execution_count": null,
     "metadata": {},
     "outputs": [
      {
       "output_type": "pyout",
       "prompt_number": 33,
       "text": [
        "(1, 1, [], 's')"
       ],
       "metadata": {}
      }
     ],
     "input": [
      "1 or 0, 0 or 1, '' or [], 's' or 1"
     ],
     "language": "python",
     "prompt_number": 33
    },
    {
     "cell_type": "markdown",
     "metadata": {},
     "source": [
      "x and y (если x ложно, то x, иначе y)"
     ]
    },
    {
     "cell_type": "code",
     "execution_count": null,
     "metadata": {},
     "outputs": [
      {
       "output_type": "pyout",
       "prompt_number": 34,
       "text": [
        "(0, 0, '', 1)"
       ],
       "metadata": {}
      }
     ],
     "input": [
      "1 and 0, 0 and 1, '' and [], 's' and 1"
     ],
     "language": "python",
     "prompt_number": 34
    },
    {
     "cell_type": "markdown",
     "metadata": {},
     "source": [
      "not x (если x ложно, то True, иначе False)"
     ]
    },
    {
     "cell_type": "code",
     "execution_count": null,
     "metadata": {},
     "outputs": [
      {
       "output_type": "pyout",
       "prompt_number": 35,
       "text": [
        "(False, True, True, False, False, True)"
       ],
       "metadata": {}
      }
     ],
     "input": [
      "not 1, not 0, not '', not 'a', not (1,), not ()"
     ],
     "language": "python",
     "prompt_number": 35
    },
    {
     "cell_type": "heading",
     "metadata": {},
     "level": 4,
     "source": [
      "Условные операторы"
     ]
    },
    {
     "cell_type": "code",
     "execution_count": null,
     "metadata": {},
     "outputs": [
      {
       "output_type": "pyout",
       "prompt_number": 36,
       "text": [
        "(True, False, True)"
       ],
       "metadata": {}
      }
     ],
     "input": [
      "1 < 2, 1.5 == 3/2, 1.5 == 3/2."
     ],
     "language": "python",
     "prompt_number": 36
    },
    {
     "cell_type": "code",
     "execution_count": null,
     "metadata": {},
     "outputs": [
      {
       "output_type": "pyout",
       "prompt_number": 37,
       "text": [
        "(True, True)"
       ],
       "metadata": {}
      }
     ],
     "input": [
      "2 <= 2.5, 2 >= 2-0.1**10"
     ],
     "language": "python",
     "prompt_number": 37
    },
    {
     "cell_type": "code",
     "execution_count": null,
     "metadata": {},
     "outputs": [
      {
       "output_type": "pyout",
       "prompt_number": 38,
       "text": [
        "True"
       ],
       "metadata": {}
      }
     ],
     "input": [
      "5 == 5.0 == 5. == 5+0j == -5j * 1j"
     ],
     "language": "python",
     "prompt_number": 38
    },
    {
     "cell_type": "code",
     "execution_count": null,
     "metadata": {},
     "outputs": [
      {
       "output_type": "pyout",
       "prompt_number": 39,
       "text": [
        "True"
       ],
       "metadata": {}
      }
     ],
     "input": [
      "5 != 25//5.2 <> 2.22**2"
     ],
     "language": "python",
     "prompt_number": 39
    },
    {
     "cell_type": "code",
     "execution_count": null,
     "metadata": {},
     "outputs": [
      {
       "output_type": "pyout",
       "prompt_number": 40,
       "text": [
        "True"
       ],
       "metadata": {}
      }
     ],
     "input": [
      "1 < 2 <= 5/2 < 10 <= 1.2e2"
     ],
     "language": "python",
     "prompt_number": 40
    },
    {
     "cell_type": "code",
     "execution_count": null,
     "metadata": {},
     "outputs": [
      {
       "output_type": "pyout",
       "prompt_number": 41,
       "text": [
        "(True, False)"
       ],
       "metadata": {}
      }
     ],
     "input": [
      "5 == 5., 5 is 5."
     ],
     "language": "python",
     "prompt_number": 41
    },
    {
     "cell_type": "code",
     "execution_count": null,
     "metadata": {},
     "outputs": [
      {
       "output_type": "pyout",
       "prompt_number": 42,
       "text": [
        "(False, True)"
       ],
       "metadata": {}
      }
     ],
     "input": [
      "() == [], () is not []"
     ],
     "language": "python",
     "prompt_number": 42
    },
    {
     "cell_type": "code",
     "execution_count": null,
     "metadata": {},
     "outputs": [
      {
       "output_type": "pyout",
       "prompt_number": 43,
       "text": [
        "True"
       ],
       "metadata": {}
      }
     ],
     "input": [
      "not () is [] # сработает?"
     ],
     "language": "python",
     "prompt_number": 43
    },
    {
     "cell_type": "heading",
     "metadata": {},
     "level": 4,
     "source": [
      "Последовательности"
     ]
    },
    {
     "cell_type": "code",
     "execution_count": null,
     "metadata": {},
     "outputs": [
      {
       "output_type": "pyout",
       "prompt_number": 44,
       "text": [
        "(tuple, list, str, unicode)"
       ],
       "metadata": {}
      }
     ],
     "input": [
      "type(()), type([]), type(\"\"), type(u\"\")"
     ],
     "language": "python",
     "prompt_number": 44
    },
    {
     "cell_type": "code",
     "execution_count": null,
     "metadata": {},
     "outputs": [],
     "input": [
      "s = 'qwertyuiop'"
     ],
     "language": "python",
     "prompt_number": 9
    },
    {
     "cell_type": "code",
     "execution_count": null,
     "metadata": {},
     "outputs": [],
     "input": [
      "l = list(s)"
     ],
     "language": "python",
     "prompt_number": 10
    },
    {
     "cell_type": "code",
     "execution_count": null,
     "metadata": {},
     "outputs": [
      {
       "output_type": "pyout",
       "prompt_number": 11,
       "text": [
        "['q', 'w', 'e', 'r', 't', 'y', 'u', 'i', 'o', 'p']"
       ],
       "metadata": {}
      }
     ],
     "input": [
      "l"
     ],
     "language": "python",
     "prompt_number": 11
    },
    {
     "cell_type": "code",
     "execution_count": null,
     "metadata": {},
     "outputs": [
      {
       "output_type": "pyout",
       "prompt_number": 12,
       "text": [
        "\"['q', 'w', 'e', 'r', 't', 'y', 'u', 'i', 'o', 'p']\""
       ],
       "metadata": {}
      }
     ],
     "input": [
      "str(l) # surprise!"
     ],
     "language": "python",
     "prompt_number": 12
    },
    {
     "cell_type": "code",
     "execution_count": null,
     "metadata": {},
     "outputs": [
      {
       "output_type": "pyout",
       "prompt_number": 13,
       "text": [
        "('qwertyuiop', ['q', 'w', 'e', 'r', 't', 'y', 'u', 'i', 'o', 'p'])"
       ],
       "metadata": {}
      }
     ],
     "input": [
      "s, l"
     ],
     "language": "python",
     "prompt_number": 13
    },
    {
     "cell_type": "code",
     "execution_count": null,
     "metadata": {},
     "outputs": [
      {
       "output_type": "pyout",
       "prompt_number": 14,
       "text": [
        "('y', 'y')"
       ],
       "metadata": {}
      }
     ],
     "input": [
      "s[5], l[5]"
     ],
     "language": "python",
     "prompt_number": 14
    },
    {
     "cell_type": "code",
     "execution_count": null,
     "metadata": {},
     "outputs": [
      {
       "output_type": "pyout",
       "prompt_number": 15,
       "text": [
        "('y', 'p')"
       ],
       "metadata": {}
      }
     ],
     "input": [
      "s[-5], l[-1]"
     ],
     "language": "python",
     "prompt_number": 15
    },
    {
     "cell_type": "code",
     "execution_count": null,
     "metadata": {},
     "outputs": [
      {
       "output_type": "pyout",
       "prompt_number": 16,
       "text": [
        "('we', ['w', 'e'])"
       ],
       "metadata": {}
      }
     ],
     "input": [
      "s[1:3], l[1:3]"
     ],
     "language": "python",
     "prompt_number": 16
    },
    {
     "cell_type": "code",
     "execution_count": null,
     "metadata": {},
     "outputs": [
      {
       "output_type": "pyout",
       "prompt_number": 17,
       "text": [
        "(10, 10)"
       ],
       "metadata": {}
      }
     ],
     "input": [
      "len(s), len(l)"
     ],
     "language": "python",
     "prompt_number": 17
    },
    {
     "cell_type": "code",
     "execution_count": null,
     "metadata": {},
     "outputs": [
      {
       "output_type": "pyout",
       "prompt_number": 18,
       "text": [
        "('qwertyuiop123', ['q', 'w', 'e', 'r', 't', 'y', 'u', 'i', 'o', 'p', 1])"
       ],
       "metadata": {}
      }
     ],
     "input": [
      "s + '123', l + [1]"
     ],
     "language": "python",
     "prompt_number": 18
    },
    {
     "cell_type": "code",
     "execution_count": null,
     "metadata": {},
     "outputs": [
      {
       "output_type": "pyout",
       "prompt_number": 19,
       "text": [
        "(True, True)"
       ],
       "metadata": {}
      }
     ],
     "input": [
      "'t' in s, 'a' not in l"
     ],
     "language": "python",
     "prompt_number": 19
    },
    {
     "cell_type": "code",
     "execution_count": null,
     "metadata": {},
     "outputs": [
      {
       "output_type": "pyout",
       "prompt_number": 20,
       "text": [
        "(True, False)"
       ],
       "metadata": {}
      }
     ],
     "input": [
      "'qwerty' in s, 'qwerty' in l"
     ],
     "language": "python",
     "prompt_number": 20
    },
    {
     "cell_type": "code",
     "execution_count": null,
     "metadata": {},
     "outputs": [
      {
       "output_type": "pyout",
       "prompt_number": 21,
       "text": [
        "['q',\n",
        " 'w',\n",
        " 'e',\n",
        " 'r',\n",
        " 't',\n",
        " 'y',\n",
        " 'u',\n",
        " 'i',\n",
        " 'o',\n",
        " 'p',\n",
        " 'q',\n",
        " 'w',\n",
        " 'e',\n",
        " 'r',\n",
        " 't',\n",
        " 'y',\n",
        " 'u',\n",
        " 'i',\n",
        " 'o',\n",
        " 'p']"
       ],
       "metadata": {}
      }
     ],
     "input": [
      "l * 2"
     ],
     "language": "python",
     "prompt_number": 21
    },
    {
     "cell_type": "code",
     "execution_count": null,
     "metadata": {},
     "outputs": [
      {
       "ename": "TypeError",
       "evalue": "can't multiply sequence by non-int of type 'float'",
       "output_type": "pyerr",
       "traceback": [
        "\u001b[0;31m---------------------------------------------------------------------------\u001b[0m\n\u001b[0;31mTypeError\u001b[0m                                 Traceback (most recent call last)",
        "\u001b[0;32m<ipython-input-22-fcc34ddd74da>\u001b[0m in \u001b[0;36m<module>\u001b[0;34m()\u001b[0m\n\u001b[0;32m----> 1\u001b[0;31m \u001b[0ml\u001b[0m \u001b[0;34m*\u001b[0m \u001b[0;36m1.5\u001b[0m\u001b[0;34m\u001b[0m\u001b[0m\n\u001b[0m",
        "\u001b[0;31mTypeError\u001b[0m: can't multiply sequence by non-int of type 'float'"
       ]
      }
     ],
     "input": [
      "l * 1.5"
     ],
     "language": "python",
     "prompt_number": 22
    },
    {
     "cell_type": "code",
     "execution_count": null,
     "metadata": {},
     "outputs": [
      {
       "output_type": "pyout",
       "prompt_number": 23,
       "text": [
        "(1, 4)"
       ],
       "metadata": {}
      }
     ],
     "input": [
      "min([1,2,3]), max([2,3,4])"
     ],
     "language": "python",
     "prompt_number": 23
    },
    {
     "cell_type": "code",
     "execution_count": null,
     "metadata": {},
     "outputs": [
      {
       "output_type": "pyout",
       "prompt_number": 24,
       "text": [
        "6"
       ],
       "metadata": {}
      }
     ],
     "input": [
      "l.index('u')"
     ],
     "language": "python",
     "prompt_number": 24
    },
    {
     "cell_type": "code",
     "execution_count": null,
     "metadata": {},
     "outputs": [
      {
       "output_type": "pyout",
       "prompt_number": 25,
       "text": [
        "2"
       ],
       "metadata": {}
      }
     ],
     "input": [
      "(l*2).count('u')"
     ],
     "language": "python",
     "prompt_number": 25
    },
    {
     "cell_type": "heading",
     "metadata": {},
     "level": 3,
     "source": [
      "Отображения"
     ]
    },
    {
     "cell_type": "markdown",
     "metadata": {},
     "source": [
      "В Python есть один встоенный тип-отображение. Это словарь (или ассоциативный массив).\n",
      "Словарь - набор пар (ключ, значение) с уникальными ключами."
     ]
    },
    {
     "cell_type": "code",
     "execution_count": null,
     "metadata": {},
     "outputs": [],
     "input": [
      "{'one':1, 'two':2, 'three':3}"
     ],
     "language": "python"
    },
    {
     "cell_type": "code",
     "execution_count": null,
     "metadata": {},
     "outputs": [
      {
       "output_type": "pyout",
       "prompt_number": 59,
       "text": [
        "{'one': 1, 'three': 3, 'two': 2}"
       ],
       "metadata": {}
      }
     ],
     "input": [
      "dict(one=1, two=2, three=3)"
     ],
     "language": "python",
     "prompt_number": 59
    },
    {
     "cell_type": "code",
     "execution_count": null,
     "metadata": {},
     "outputs": [
      {
       "output_type": "pyout",
       "prompt_number": 60,
       "text": [
        "{'one': 1, 'three': 3, 'two': 2}"
       ],
       "metadata": {}
      }
     ],
     "input": [
      "dict( [('one', 1), ('three', 3), ('two', 2)] )"
     ],
     "language": "python",
     "prompt_number": 60
    },
    {
     "cell_type": "code",
     "execution_count": null,
     "metadata": {},
     "outputs": [],
     "input": [
      "d = {'a': 1, 'b':2, 'c':3}"
     ],
     "language": "python",
     "prompt_number": 61
    },
    {
     "cell_type": "code",
     "execution_count": null,
     "metadata": {},
     "outputs": [
      {
       "output_type": "pyout",
       "prompt_number": 62,
       "text": [
        "{'a': 1, 'b': 2, 'c': 3}"
       ],
       "metadata": {}
      }
     ],
     "input": [
      "d"
     ],
     "language": "python",
     "prompt_number": 62
    },
    {
     "cell_type": "code",
     "execution_count": null,
     "metadata": {},
     "outputs": [
      {
       "output_type": "pyout",
       "prompt_number": 63,
       "text": [
        "2"
       ],
       "metadata": {}
      }
     ],
     "input": [
      "d['b']"
     ],
     "language": "python",
     "prompt_number": 63
    },
    {
     "cell_type": "code",
     "execution_count": null,
     "metadata": {},
     "outputs": [
      {
       "output_type": "pyout",
       "prompt_number": 64,
       "text": [
        "['a', 'c', 'b']"
       ],
       "metadata": {}
      }
     ],
     "input": [
      "d.keys()"
     ],
     "language": "python",
     "prompt_number": 64
    },
    {
     "cell_type": "code",
     "execution_count": null,
     "metadata": {},
     "outputs": [
      {
       "output_type": "pyout",
       "prompt_number": 65,
       "text": [
        "[1, 3, 2]"
       ],
       "metadata": {}
      }
     ],
     "input": [
      "d.values()"
     ],
     "language": "python",
     "prompt_number": 65
    },
    {
     "cell_type": "code",
     "execution_count": null,
     "metadata": {},
     "outputs": [
      {
       "output_type": "pyout",
       "prompt_number": 66,
       "text": [
        "[('a', 1), ('c', 3), ('b', 2)]"
       ],
       "metadata": {}
      }
     ],
     "input": [
      "d.items()"
     ],
     "language": "python",
     "prompt_number": 66
    },
    {
     "cell_type": "code",
     "execution_count": null,
     "metadata": {},
     "outputs": [
      {
       "output_type": "pyout",
       "prompt_number": 67,
       "text": [
        "(True, False)"
       ],
       "metadata": {}
      }
     ],
     "input": [
      "d.has_key('a'), d.has_key('d')"
     ],
     "language": "python",
     "prompt_number": 67
    },
    {
     "cell_type": "code",
     "execution_count": null,
     "metadata": {},
     "outputs": [],
     "input": [
      "d.update(d=4)"
     ],
     "language": "python",
     "prompt_number": 68
    },
    {
     "cell_type": "code",
     "execution_count": null,
     "metadata": {},
     "outputs": [],
     "input": [
      "d2 = d.copy()"
     ],
     "language": "python",
     "prompt_number": 69
    },
    {
     "cell_type": "code",
     "execution_count": null,
     "metadata": {},
     "outputs": [
      {
       "output_type": "pyout",
       "prompt_number": 70,
       "text": [
        "{'a': 1, 'b': 2, 'c': 3, 'd': 4}"
       ],
       "metadata": {}
      }
     ],
     "input": [
      "d2"
     ],
     "language": "python",
     "prompt_number": 70
    },
    {
     "cell_type": "code",
     "execution_count": null,
     "metadata": {},
     "outputs": [
      {
       "output_type": "pyout",
       "prompt_number": 71,
       "text": [
        "4"
       ],
       "metadata": {}
      }
     ],
     "input": [
      "d2.pop('d')"
     ],
     "language": "python",
     "prompt_number": 71
    },
    {
     "cell_type": "code",
     "execution_count": null,
     "metadata": {},
     "outputs": [
      {
       "output_type": "pyout",
       "prompt_number": 72,
       "text": [
        "({'a': 1, 'b': 2, 'c': 3}, {'a': 1, 'b': 2, 'c': 3, 'd': 4})"
       ],
       "metadata": {}
      }
     ],
     "input": [
      "d2, d"
     ],
     "language": "python",
     "prompt_number": 72
    },
    {
     "cell_type": "code",
     "execution_count": null,
     "metadata": {},
     "outputs": [
      {
       "output_type": "stream",
       "stream": "stdout",
       "text": [
        "a 1\n",
        "c 3\n",
        "b 2\n",
        "d 4\n"
       ]
      }
     ],
     "input": [
      "for k in d:\n",
      "    print k, d[k]"
     ],
     "language": "python",
     "prompt_number": 73
    },
    {
     "cell_type": "code",
     "execution_count": null,
     "metadata": {},
     "outputs": [
      {
       "output_type": "pyout",
       "prompt_number": 74,
       "text": [
        "3"
       ],
       "metadata": {}
      }
     ],
     "input": [
      "len(d2)"
     ],
     "language": "python",
     "prompt_number": 74
    },
    {
     "cell_type": "code",
     "execution_count": null,
     "metadata": {},
     "outputs": [
      {
       "output_type": "pyout",
       "prompt_number": 75,
       "text": [
        "(False, True)"
       ],
       "metadata": {}
      }
     ],
     "input": [
      "'d' in d2, 'd' in d"
     ],
     "language": "python",
     "prompt_number": 75
    },
    {
     "cell_type": "heading",
     "metadata": {},
     "level": 3,
     "source": [
      "Средства управления логикой"
     ]
    },
    {
     "cell_type": "heading",
     "metadata": {},
     "level": 4,
     "source": [
      "Ветвление (if, elif, else)"
     ]
    },
    {
     "cell_type": "code",
     "execution_count": null,
     "metadata": {},
     "outputs": [],
     "input": [
      "from random import randint\n",
      "n = randint(-100, 100)"
     ],
     "language": "python",
     "prompt_number": 76
    },
    {
     "cell_type": "code",
     "execution_count": null,
     "metadata": {},
     "outputs": [
      {
       "output_type": "stream",
       "stream": "stdout",
       "text": [
        "Положительное\n"
       ]
      }
     ],
     "input": [
      "if n < 0:\n",
      "    print \"Отрицательное\"\n",
      "elif n == 0:\n",
      "    print \"Ноль\"\n",
      "else:\n",
      "    print \"Положительное\""
     ],
     "language": "python",
     "prompt_number": 77
    },
    {
     "cell_type": "code",
     "execution_count": null,
     "metadata": {},
     "outputs": [
      {
       "output_type": "pyout",
       "prompt_number": 78,
       "text": [
        "61"
       ],
       "metadata": {}
      }
     ],
     "input": [
      "n # а так ли это?"
     ],
     "language": "python",
     "prompt_number": 78
    },
    {
     "cell_type": "heading",
     "metadata": {},
     "level": 4,
     "source": [
      "Циклы (for, while)"
     ]
    },
    {
     "cell_type": "code",
     "execution_count": null,
     "metadata": {},
     "outputs": [
      {
       "output_type": "stream",
       "stream": "stdout",
       "text": [
        "работа 12\n",
        "тренинг 14\n",
        "отпуск? 13\n"
       ]
      }
     ],
     "input": [
      "spisok = [\"работа\", \"тренинг\", \"отпуск?\"]\n",
      "for x in spisok:\n",
      "    print x, len(x)"
     ],
     "language": "python",
     "prompt_number": 26
    },
    {
     "cell_type": "markdown",
     "metadata": {},
     "source": [
      "Не следует изменять в цикле итерируемую последовательность!!!"
     ]
    },
    {
     "cell_type": "code",
     "execution_count": null,
     "metadata": {},
     "outputs": [],
     "input": [
      "for x in spisok:\n",
      "    if x == 'работа' and len(spisok) < 10:\n",
      "        spisok.append(x)"
     ],
     "language": "python",
     "prompt_number": 27
    },
    {
     "cell_type": "code",
     "execution_count": null,
     "metadata": {},
     "outputs": [
      {
       "output_type": "stream",
       "stream": "stdout",
       "text": [
        "работа тренинг отпуск? работа работа работа работа работа работа работа\n"
       ]
      }
     ],
     "input": [
      "for x in spisok: print x,"
     ],
     "language": "python",
     "prompt_number": 28
    },
    {
     "cell_type": "markdown",
     "metadata": {},
     "source": [
      "Если это необходимо, то перебирать нужно копию:"
     ]
    },
    {
     "cell_type": "code",
     "execution_count": null,
     "metadata": {},
     "outputs": [],
     "input": [
      "spisok = [\"работа\", \"тренинг\", \"отпуск?\"]\n",
      "for x in spisok[:]:\n",
      "    if x == 'работа':\n",
      "        spisok.append(x)"
     ],
     "language": "python",
     "prompt_number": 29
    },
    {
     "cell_type": "code",
     "execution_count": null,
     "metadata": {},
     "outputs": [
      {
       "output_type": "stream",
       "stream": "stdout",
       "text": [
        "работа тренинг отпуск? работа\n"
       ]
      }
     ],
     "input": [
      "for x in spisok: print x,"
     ],
     "language": "python",
     "prompt_number": 30
    },
    {
     "cell_type": "code",
     "execution_count": null,
     "metadata": {},
     "outputs": [
      {
       "output_type": "stream",
       "stream": "stdout",
       "text": [
        "0 message\n",
        "1 message\n",
        "2 message\n",
        "3 message\n",
        "4 message\n"
       ]
      }
     ],
     "input": [
      "n = 5; i = 0\n",
      "while i < n:\n",
      "    print i, \"message\"\n",
      "    i = i+1"
     ],
     "language": "python",
     "prompt_number": 31
    },
    {
     "cell_type": "heading",
     "metadata": {},
     "level": 4,
     "source": [
      "Функции range и xrange"
     ]
    },
    {
     "cell_type": "code",
     "execution_count": null,
     "metadata": {},
     "outputs": [
      {
       "output_type": "stream",
       "stream": "stdout",
       "text": [
        "Help on built-in function range in module __builtin__:\n",
        "\n",
        "range(...)\n",
        "    range(stop) -> list of integers\n",
        "    range(start, stop[, step]) -> list of integers\n",
        "    \n",
        "    Return a list containing an arithmetic progression of integers.\n",
        "    range(i, j) returns [i, i+1, i+2, ..., j-1]; start (!) defaults to 0.\n",
        "    When step is given, it specifies the increment (or decrement).\n",
        "    For example, range(4) returns [0, 1, 2, 3].  The end point is omitted!\n",
        "    These are exactly the valid indices for a list of 4 elements.\n",
        "\n"
       ]
      }
     ],
     "input": [
      "help(range)"
     ],
     "language": "python",
     "prompt_number": 85
    },
    {
     "cell_type": "code",
     "execution_count": null,
     "metadata": {},
     "outputs": [
      {
       "output_type": "pyout",
       "prompt_number": 86,
       "text": [
        "[0, 1, 2, 3, 4, 5, 6, 7, 8, 9]"
       ],
       "metadata": {}
      }
     ],
     "input": [
      "range(10)"
     ],
     "language": "python",
     "prompt_number": 86
    },
    {
     "cell_type": "code",
     "execution_count": null,
     "metadata": {},
     "outputs": [
      {
       "output_type": "pyout",
       "prompt_number": 87,
       "text": [
        "[1, 4, 7, 10, 13, 16, 19, 22, 25, 28, 31, 34, 37, 40, 43, 46, 49]"
       ],
       "metadata": {}
      }
     ],
     "input": [
      "range(1, 50, 3)"
     ],
     "language": "python",
     "prompt_number": 87
    },
    {
     "cell_type": "code",
     "execution_count": null,
     "metadata": {},
     "outputs": [
      {
       "output_type": "pyout",
       "prompt_number": 88,
       "text": [
        "[10, 9, 8, 7, 6, 5, 4, 3, 2, 1, 0, -1, -2, -3, -4]"
       ],
       "metadata": {}
      }
     ],
     "input": [
      "range(10, -5, -1)"
     ],
     "language": "python",
     "prompt_number": 88
    },
    {
     "cell_type": "code",
     "execution_count": null,
     "metadata": {},
     "outputs": [
      {
       "output_type": "stream",
       "stream": "stdout",
       "text": [
        "0 работа\n",
        "1 тренинг\n",
        "2 отпуск?\n",
        "3 работа\n"
       ]
      }
     ],
     "input": [
      "for i in range(len(spisok)):\n",
      "    print i, spisok[i]"
     ],
     "language": "python",
     "prompt_number": 89
    },
    {
     "cell_type": "code",
     "execution_count": null,
     "metadata": {},
     "outputs": [],
     "input": [
      "xr = xrange(5, 20, 2)"
     ],
     "language": "python",
     "prompt_number": 90
    },
    {
     "cell_type": "code",
     "execution_count": null,
     "metadata": {},
     "outputs": [
      {
       "output_type": "pyout",
       "prompt_number": 91,
       "text": [
        "(xrange(5, 21, 2), xrange)"
       ],
       "metadata": {}
      }
     ],
     "input": [
      "xr, type(xr)"
     ],
     "language": "python",
     "prompt_number": 91
    },
    {
     "cell_type": "code",
     "execution_count": null,
     "metadata": {},
     "outputs": [
      {
       "output_type": "pyout",
       "prompt_number": 92,
       "text": [
        "(11, 8)"
       ],
       "metadata": {}
      }
     ],
     "input": [
      "xr[3], len(xr)"
     ],
     "language": "python",
     "prompt_number": 92
    },
    {
     "cell_type": "code",
     "execution_count": null,
     "metadata": {},
     "outputs": [
      {
       "ename": "TypeError",
       "evalue": "sequence index must be integer, not 'slice'",
       "output_type": "pyerr",
       "traceback": [
        "\u001b[0;31m---------------------------------------------------------------------------\u001b[0m\n\u001b[0;31mTypeError\u001b[0m                                 Traceback (most recent call last)",
        "\u001b[0;32m<ipython-input-93-fe62551b2211>\u001b[0m in \u001b[0;36m<module>\u001b[0;34m()\u001b[0m\n\u001b[0;32m----> 1\u001b[0;31m \u001b[0mxr\u001b[0m\u001b[0;34m[\u001b[0m\u001b[0;36m1\u001b[0m\u001b[0;34m:\u001b[0m\u001b[0;36m2\u001b[0m\u001b[0;34m]\u001b[0m\u001b[0;34m\u001b[0m\u001b[0m\n\u001b[0m",
        "\u001b[0;31mTypeError\u001b[0m: sequence index must be integer, not 'slice'"
       ]
      }
     ],
     "input": [
      "xr[1:2]"
     ],
     "language": "python",
     "prompt_number": 93
    },
    {
     "cell_type": "code",
     "execution_count": null,
     "metadata": {},
     "outputs": [
      {
       "output_type": "stream",
       "stream": "stdout",
       "text": [
        "5 7 9 11 13 15 17 19\n"
       ]
      }
     ],
     "input": [
      "for x in xr:\n",
      "    print x,"
     ],
     "language": "python",
     "prompt_number": 94
    },
    {
     "cell_type": "heading",
     "metadata": {},
     "level": 4,
     "source": [
      "Инструкции break и continue, ветвь else в циклах"
     ]
    },
    {
     "cell_type": "code",
     "execution_count": null,
     "metadata": {},
     "outputs": [],
     "input": [
      "spisok = [\"mouse\", \"cat\", \"zebra\", \"horse\", \"fox\", \"dog\", \"eel\", \"shark\", \"ox\"]"
     ],
     "language": "python",
     "prompt_number": 37
    },
    {
     "cell_type": "code",
     "execution_count": null,
     "metadata": {},
     "outputs": [
      {
       "output_type": "stream",
       "stream": "stdout",
       "text": [
        "mouse\n",
        "zebra\n",
        "horse\n",
        "shark\n"
       ]
      }
     ],
     "input": [
      "for slovo in spisok:\n",
      "    if len(slovo) < 5:\n",
      "        continue\n",
      "    else:\n",
      "        print slovo"
     ],
     "language": "python",
     "prompt_number": 38
    },
    {
     "cell_type": "code",
     "execution_count": null,
     "metadata": {},
     "outputs": [
      {
       "output_type": "stream",
       "stream": "stdout",
       "text": [
        "mouse\n",
        "cat\n",
        "zebra\n",
        "horse\n",
        "fox\n",
        "dog\n",
        "'found a eel, quitting'\n"
       ]
      }
     ],
     "input": [
      "for slovo in spisok:\n",
      "    if slovo != 'eel':\n",
      "        print slovo\n",
      "    else:\n",
      "        print \"'found a eel, quitting'\"\n",
      "        break"
     ],
     "language": "python",
     "prompt_number": 39
    },
    {
     "cell_type": "code",
     "execution_count": null,
     "metadata": {},
     "outputs": [
      {
       "output_type": "stream",
       "stream": "stdout",
       "text": [
        "mouse\n",
        "cat\n",
        "zebra\n",
        "horse\n",
        "fox has x in it!!!\n",
        "dog\n",
        "eel\n",
        "shark\n",
        "ox has x in it!!!\n"
       ]
      }
     ],
     "input": [
      "for slovo in spisok:\n",
      "    for bukva in slovo:\n",
      "        if bukva == 'x':\n",
      "            print slovo, 'has x in it!!!'\n",
      "            break\n",
      "    else:\n",
      "        print slovo"
     ],
     "language": "python",
     "prompt_number": 40
    },
    {
     "cell_type": "heading",
     "metadata": {},
     "level": 4,
     "source": [
      "Инструкция pass"
     ]
    },
    {
     "cell_type": "code",
     "execution_count": null,
     "metadata": {},
     "outputs": [],
     "input": [
      "while 1:\n",
      "    pass"
     ],
     "language": "python",
     "prompt_number": 98
    },
    {
     "cell_type": "code",
     "execution_count": null,
     "metadata": {},
     "outputs": [
      {
       "output_type": "stream",
       "stream": "stdout",
       "text": [
        "mouse\n",
        "zebra\n",
        "horse\n",
        "shark\n"
       ]
      }
     ],
     "input": [
      "for slovo in spisok:\n",
      "    if len(slovo) < 5:\n",
      "        pass\n",
      "    else:\n",
      "        print slovo"
     ],
     "language": "python",
     "prompt_number": 41
    },
    {
     "cell_type": "heading",
     "metadata": {},
     "level": 4,
     "source": [
      "Определение функций"
     ]
    },
    {
     "cell_type": "code",
     "execution_count": null,
     "metadata": {},
     "outputs": [],
     "input": [
      "def function(x,y):\n",
      "    print x + y"
     ],
     "language": "python",
     "prompt_number": 43
    },
    {
     "cell_type": "code",
     "execution_count": null,
     "metadata": {},
     "outputs": [
      {
       "output_type": "stream",
       "stream": "stdout",
       "text": [
        "3\n",
        "вопрос???\n"
       ]
      }
     ],
     "input": [
      "function(1,2) \n",
      "function(\"вопрос\", \"???\")"
     ],
     "language": "python",
     "prompt_number": 44
    },
    {
     "cell_type": "code",
     "execution_count": null,
     "metadata": {},
     "outputs": [
      {
       "ename": "TypeError",
       "evalue": "unsupported operand type(s) for +: 'int' and 'str'",
       "output_type": "pyerr",
       "traceback": [
        "\u001b[0;31m---------------------------------------------------------------------------\u001b[0m\n\u001b[0;31mTypeError\u001b[0m                                 Traceback (most recent call last)",
        "\u001b[0;32m<ipython-input-45-d6595726b1b4>\u001b[0m in \u001b[0;36m<module>\u001b[0;34m()\u001b[0m\n\u001b[0;32m----> 1\u001b[0;31m \u001b[0mfunction\u001b[0m\u001b[0;34m(\u001b[0m\u001b[0;36m1\u001b[0m\u001b[0;34m,\u001b[0m \u001b[0;34m'a'\u001b[0m\u001b[0;34m)\u001b[0m\u001b[0;34m\u001b[0m\u001b[0m\n\u001b[0m",
        "\u001b[0;32m<ipython-input-43-c4d2ab446704>\u001b[0m in \u001b[0;36mfunction\u001b[0;34m(x, y)\u001b[0m\n\u001b[1;32m      1\u001b[0m \u001b[0;32mdef\u001b[0m \u001b[0mfunction\u001b[0m\u001b[0;34m(\u001b[0m\u001b[0mx\u001b[0m\u001b[0;34m,\u001b[0m\u001b[0my\u001b[0m\u001b[0;34m)\u001b[0m\u001b[0;34m:\u001b[0m\u001b[0;34m\u001b[0m\u001b[0m\n\u001b[0;32m----> 2\u001b[0;31m     \u001b[0;32mprint\u001b[0m \u001b[0mx\u001b[0m \u001b[0;34m+\u001b[0m \u001b[0my\u001b[0m\u001b[0;34m\u001b[0m\u001b[0m\n\u001b[0m",
        "\u001b[0;31mTypeError\u001b[0m: unsupported operand type(s) for +: 'int' and 'str'"
       ]
      }
     ],
     "input": [
      "function(1, 'a')"
     ],
     "language": "python",
     "prompt_number": 45
    },
    {
     "cell_type": "code",
     "execution_count": null,
     "metadata": {},
     "outputs": [
      {
       "output_type": "stream",
       "stream": "stdout",
       "text": [
        "3\n",
        "None\n"
       ]
      }
     ],
     "input": [
      "print function(1,2)"
     ],
     "language": "python",
     "prompt_number": 46
    },
    {
     "cell_type": "code",
     "execution_count": null,
     "metadata": {},
     "outputs": [],
     "input": [
      "def function(x,y):\n",
      "    print x + y\n",
      "    return \"Success!\""
     ],
     "language": "python",
     "prompt_number": 47
    },
    {
     "cell_type": "code",
     "execution_count": null,
     "metadata": {},
     "outputs": [
      {
       "output_type": "stream",
       "stream": "stdout",
       "text": [
        "3\n",
        "Success!\n"
       ]
      }
     ],
     "input": [
      "print function(1,2)"
     ],
     "language": "python",
     "prompt_number": 48
    },
    {
     "cell_type": "code",
     "execution_count": null,
     "metadata": {},
     "outputs": [],
     "input": [
      "def printer(slova, lenght = 5):\n",
      "    for slovo in slova:\n",
      "        if len(slovo) < lenght:\n",
      "            continue\n",
      "        else:\n",
      "            print slovo"
     ],
     "language": "python",
     "prompt_number": 49
    },
    {
     "cell_type": "code",
     "execution_count": null,
     "metadata": {},
     "outputs": [
      {
       "output_type": "stream",
       "stream": "stdout",
       "text": [
        "mouse\n",
        "zebra\n",
        "horse\n",
        "shark\n"
       ]
      }
     ],
     "input": [
      "printer(spisok)"
     ],
     "language": "python",
     "prompt_number": 50
    },
    {
     "cell_type": "code",
     "execution_count": null,
     "metadata": {},
     "outputs": [
      {
       "output_type": "stream",
       "stream": "stdout",
       "text": [
        "mouse\n",
        "cat\n",
        "zebra\n",
        "horse\n",
        "fox\n",
        "dog\n",
        "eel\n",
        "shark\n"
       ]
      }
     ],
     "input": [
      "printer(spisok, 3)"
     ],
     "language": "python",
     "prompt_number": 52
    },
    {
     "cell_type": "heading",
     "metadata": {},
     "level": 3,
     "source": [
      "Упражнения"
     ]
    },
    {
     "cell_type": "heading",
     "metadata": {},
     "level": 4,
     "source": [
      "Числа фиббоначи"
     ]
    },
    {
     "cell_type": "code",
     "execution_count": null,
     "metadata": {},
     "outputs": [
      {
       "output_type": "stream",
       "stream": "stdout",
       "text": [
        "числа фиббоначи:  1 1 1 2 3 5 8 13 21 34\n"
       ]
      }
     ],
     "input": [
      "a = 1\n",
      "b = 1\n",
      "print \"числа фиббоначи: \", a,b,\n",
      "while b<50:\n",
      "\ttmp = b\n",
      "\tb+=a\n",
      "\ta = tmp\n",
      "\tprint a,"
     ],
     "language": "python",
     "prompt_number": 53
    },
    {
     "cell_type": "markdown",
     "metadata": {},
     "source": [
      "Напишите функцию fib(N), которая распечатает *первые N* чисел фиббоначи:"
     ]
    },
    {
     "cell_type": "code",
     "execution_count": null,
     "metadata": {},
     "outputs": [],
     "input": [
      ""
     ],
     "language": "python",
     "prompt_number": 109
    },
    {
     "cell_type": "heading",
     "metadata": {},
     "level": 4,
     "source": [
      "\"Угадай число\""
     ]
    },
    {
     "cell_type": "code",
     "execution_count": null,
     "metadata": {},
     "outputs": [],
     "input": [
      "import random\n",
      "def guess(n):\n",
      "\tnum = random.randint(1, n)\n",
      "\tprint\n",
      "\tguess = raw_input(\"Отгадайте число от 1 до %i: \"%n)\n",
      "\tguess = int(guess)\n",
      "\twhile guess != num:\n",
      "\t\tif guess < num:\n",
      "\t\t\tprint \"Мимо! чуть больше: \",\n",
      "\t\telif guess > num: \n",
      "\t\t\tprint \"Мимо! чуть меньше: \",\n",
      "\t\tguess = int(raw_input())\n",
      "\n",
      "\tprint \"Ура! Угадали\""
     ],
     "language": "python",
     "prompt_number": 54
    },
    {
     "cell_type": "code",
     "execution_count": null,
     "metadata": {},
     "outputs": [
      {
       "output_type": "stream",
       "stream": "stdout",
       "text": [
        "\n"
       ]
      },
      {
       "output_type": "stream",
       "stream": "stdout",
       "text": [
        "Отгадайте число от 1 до 50: 25\n"
       ]
      },
      {
       "output_type": "stream",
       "stream": "stdout",
       "text": [
        "Мимо! чуть меньше: "
       ]
      },
      {
       "output_type": "stream",
       "stream": "stdout",
       "text": [
        "10\n"
       ]
      },
      {
       "output_type": "stream",
       "stream": "stdout",
       "text": [
        " Мимо! чуть меньше: "
       ]
      },
      {
       "output_type": "stream",
       "stream": "stdout",
       "text": [
        "5\n"
       ]
      },
      {
       "output_type": "stream",
       "stream": "stdout",
       "text": [
        " Мимо! чуть меньше: "
       ]
      },
      {
       "output_type": "stream",
       "stream": "stdout",
       "text": [
        "1\n"
       ]
      },
      {
       "output_type": "stream",
       "stream": "stdout",
       "text": [
        " Мимо! чуть больше: "
       ]
      },
      {
       "output_type": "stream",
       "stream": "stdout",
       "text": [
        "2\n"
       ]
      },
      {
       "output_type": "stream",
       "stream": "stdout",
       "text": [
        " Мимо! чуть больше: "
       ]
      },
      {
       "output_type": "stream",
       "stream": "stdout",
       "text": [
        "3\n"
       ]
      },
      {
       "output_type": "stream",
       "stream": "stdout",
       "text": [
        " Мимо! чуть больше: "
       ]
      },
      {
       "output_type": "stream",
       "stream": "stdout",
       "text": [
        "4\n"
       ]
      },
      {
       "output_type": "stream",
       "stream": "stdout",
       "text": [
        " Ура! Угадали\n"
       ]
      }
     ],
     "input": [
      "guess(50)"
     ],
     "language": "python",
     "prompt_number": 55
    },
    {
     "cell_type": "markdown",
     "metadata": {},
     "source": [
      "Задание: напишите функцию primes(N), которая выведет все простые числа меньше N"
     ]
    }
   ]
  }
 ],
 "cells": [],
 "metadata": {
  "name": ""
 },
 "nbformat": 3,
 "nbformat_minor": 0
}