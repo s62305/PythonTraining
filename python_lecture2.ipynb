{
 "worksheets": [
  {
   "cells": [
    {
     "cell_type": "heading",
     "metadata": {},
     "level": 1,
     "source": [
      "Структуры данных в Python"
     ]
    },
    {
     "cell_type": "heading",
     "metadata": {},
     "level": 2,
     "source": [
      "Встроенные структуры данных"
     ]
    },
    {
     "cell_type": "markdown",
     "metadata": {},
     "source": [
      "- Списки (lists)\n",
      "- Кортежи (tuples)\n",
      "- Строки (str, unicode)\n",
      "- Словари (dictionaries)\n",
      "- Множества (sets)"
     ]
    },
    {
     "cell_type": "heading",
     "metadata": {},
     "level": 2,
     "source": [
      "Списки"
     ]
    },
    {
     "cell_type": "markdown",
     "metadata": {},
     "source": [
      "- упорядоченность элементов\n",
      "- изменяемость элементов\n",
      "- наличие индекса"
     ]
    },
    {
     "cell_type": "code",
     "execution_count": null,
     "metadata": {},
     "outputs": [],
     "input": [
      "empty_list = []\n",
      "another_empty_list = list()\n",
      "not_empty_list = [1, \"any_string\", True]"
     ],
     "language": "python",
     "prompt_number": 11
    },
    {
     "cell_type": "code",
     "execution_count": null,
     "metadata": {},
     "outputs": [
      {
       "output_type": "stream",
       "stream": "stdout",
       "text": [
        "[]\n"
       ]
      }
     ],
     "input": [
      "print(empty_list)"
     ],
     "language": "python",
     "prompt_number": 12
    },
    {
     "cell_type": "code",
     "execution_count": null,
     "metadata": {},
     "outputs": [
      {
       "output_type": "pyout",
       "prompt_number": 13,
       "text": [
        "[]"
       ],
       "metadata": {}
      }
     ],
     "input": [
      "another_empty_list"
     ],
     "language": "python",
     "prompt_number": 13
    },
    {
     "cell_type": "code",
     "execution_count": null,
     "metadata": {},
     "outputs": [
      {
       "output_type": "pyout",
       "prompt_number": 14,
       "text": [
        "[1, 'any_string', True]"
       ],
       "metadata": {}
      }
     ],
     "input": [
      "not_empty_list"
     ],
     "language": "python",
     "prompt_number": 14
    },
    {
     "cell_type": "code",
     "execution_count": null,
     "metadata": {},
     "outputs": [
      {
       "output_type": "pyout",
       "prompt_number": 15,
       "text": [
        "False"
       ],
       "metadata": {}
      }
     ],
     "input": [
      "[1, 2, 3] == [1, 3, 2]"
     ],
     "language": "python",
     "prompt_number": 15
    },
    {
     "cell_type": "code",
     "execution_count": null,
     "metadata": {},
     "outputs": [
      {
       "output_type": "pyout",
       "prompt_number": 1,
       "text": [
        "True"
       ],
       "metadata": {}
      }
     ],
     "input": [
      "[1, 2, 3] == [1, 2, 3]"
     ],
     "language": "python",
     "prompt_number": 1
    },
    {
     "cell_type": "code",
     "execution_count": null,
     "metadata": {},
     "outputs": [
      {
       "output_type": "pyout",
       "prompt_number": 20,
       "text": [
        "1"
       ],
       "metadata": {}
      }
     ],
     "input": [
      "not_empty_list[0]"
     ],
     "language": "python",
     "prompt_number": 20
    },
    {
     "cell_type": "code",
     "execution_count": null,
     "metadata": {},
     "outputs": [],
     "input": [
      "not_empty_list[3]"
     ],
     "language": "python"
    },
    {
     "cell_type": "markdown",
     "metadata": {},
     "source": [
      "- list.append(x) # добавляет элемент в конец списка\n",
      "- list.extend(L) # расширяет список последовательностью L\n",
      "- list.insert(i, x) # вставляет элемент x на позицию i\n",
      "- list.remove(x) # удаляет элемент x, возвращает ошибку при отсутствии\n",
      "- list.pop([i]) # удаляет i-ый элемент (последний, если не указан) и возвращает его\n",
      "- list.index(x) # возвращает индекс первого найденного элемента x, возвращает ошибку при отсутствии\n",
      "- list.count(x) # возвращает количество элементов x в списке\n",
      "- list.sort(cmp=None, key=None, reverse=False) # сортирует список по возрастанию\n",
      "- list.reverse() # разворачивает список"
     ]
    },
    {
     "cell_type": "markdown",
     "metadata": {},
     "source": [
      "Рассмотрим примеры"
     ]
    },
    {
     "cell_type": "code",
     "execution_count": null,
     "metadata": {},
     "outputs": [],
     "input": [
      "new_list = []"
     ],
     "language": "python",
     "prompt_number": 11
    },
    {
     "cell_type": "markdown",
     "metadata": {},
     "source": [
      "Добавление элемента в конец списка"
     ]
    },
    {
     "cell_type": "code",
     "execution_count": null,
     "metadata": {},
     "outputs": [],
     "input": [
      "new_list.append(1)\n",
      "new_list"
     ],
     "language": "python",
     "prompt_number": 10
    },
    {
     "cell_type": "markdown",
     "metadata": {},
     "source": [
      "Расширение списка"
     ]
    },
    {
     "cell_type": "code",
     "execution_count": null,
     "metadata": {},
     "outputs": [],
     "input": [
      "new_list.extend([32, 16, True])"
     ],
     "language": "python"
    },
    {
     "cell_type": "markdown",
     "metadata": {},
     "source": [
      "Вставка элемента"
     ]
    },
    {
     "cell_type": "code",
     "execution_count": null,
     "metadata": {},
     "outputs": [
      {
       "output_type": "pyout",
       "prompt_number": 16,
       "text": [
        "1"
       ],
       "metadata": {}
      }
     ],
     "input": [
      "t_list = [False, 'smth', 14.06, 90]\n",
      "t_list.insert(1, 'Python')\n",
      "t_list.index('Python')"
     ],
     "language": "python",
     "prompt_number": 16
    },
    {
     "cell_type": "code",
     "execution_count": null,
     "metadata": {},
     "outputs": [],
     "input": [
      "t_list.index(8)"
     ],
     "language": "python"
    },
    {
     "cell_type": "markdown",
     "metadata": {},
     "source": [
      "Удаление элементов"
     ]
    },
    {
     "cell_type": "code",
     "execution_count": null,
     "metadata": {},
     "outputs": [],
     "input": [
      "t_list.remove(??)"
     ],
     "language": "python"
    },
    {
     "cell_type": "code",
     "execution_count": null,
     "metadata": {},
     "outputs": [],
     "input": [
      "del t_list[2]"
     ],
     "language": "python"
    },
    {
     "cell_type": "code",
     "execution_count": null,
     "metadata": {},
     "outputs": [],
     "input": [
      "t_list.pop()"
     ],
     "language": "python"
    },
    {
     "cell_type": "markdown",
     "metadata": {},
     "source": [
      "Что произойдёт, если мы попытаемся получить элемент из пустого списка с помощью метода pop()"
     ]
    },
    {
     "cell_type": "markdown",
     "metadata": {},
     "source": [
      "Сортировка"
     ]
    },
    {
     "cell_type": "code",
     "execution_count": null,
     "metadata": {},
     "outputs": [],
     "input": [
      "unsorted_list = [4, 5, 2, 4, 6, 90, 4, 5, 7, 42, 8, 73, 100]\n",
      "sorted_list = unsorted_list.sort()"
     ],
     "language": "python"
    },
    {
     "cell_type": "markdown",
     "metadata": {},
     "source": [
      "Замечания при работе со словарями\n",
      "\n",
      "Будьте осторожны при работе с копиями словарей"
     ]
    },
    {
     "cell_type": "code",
     "execution_count": null,
     "metadata": {},
     "outputs": [],
     "input": [
      "a = [1, 2, 3]\n",
      "b = a\n",
      "b.append(1)"
     ],
     "language": "python"
    },
    {
     "cell_type": "code",
     "execution_count": null,
     "metadata": {},
     "outputs": [],
     "input": [
      "print(a)"
     ],
     "language": "python"
    },
    {
     "cell_type": "code",
     "execution_count": null,
     "metadata": {},
     "outputs": [],
     "input": [
      "print(b)"
     ],
     "language": "python"
    },
    {
     "cell_type": "code",
     "execution_count": null,
     "metadata": {},
     "outputs": [],
     "input": [
      "x = [1, 2, 3]\n",
      "y = x[:]\n",
      "y.append(1)"
     ],
     "language": "python"
    },
    {
     "cell_type": "code",
     "execution_count": null,
     "metadata": {},
     "outputs": [],
     "input": [
      "print(x)"
     ],
     "language": "python"
    },
    {
     "cell_type": "code",
     "execution_count": null,
     "metadata": {},
     "outputs": [],
     "input": [
      "print(y)"
     ],
     "language": "python"
    },
    {
     "cell_type": "heading",
     "metadata": {},
     "level": 2,
     "source": [
      "Кортежи"
     ]
    },
    {
     "cell_type": "markdown",
     "metadata": {},
     "source": [
      "* упорядоченность элементов\n",
      "* неизменяемость\n",
      "* наличие индекса"
     ]
    },
    {
     "cell_type": "code",
     "execution_count": null,
     "metadata": {},
     "outputs": [],
     "input": [
      "my_empty_tuple1 = ()\n",
      "my_empty_tuple2 = tuple()\n",
      "my_tuple3 = 2, 'hello',\n",
      "my_tuple4 = (2, 'bye')"
     ],
     "language": "python"
    },
    {
     "cell_type": "markdown",
     "metadata": {},
     "source": [
      "Зачем нужны кортежи если есть списки?"
     ]
    },
    {
     "cell_type": "code",
     "execution_count": null,
     "metadata": {},
     "outputs": [
      {
       "output_type": "pyout",
       "prompt_number": 17,
       "text": [
        "('b', 'python')"
       ],
       "metadata": {}
      }
     ],
     "input": [
      "a_tuple = (\"a\", \"b\", \"python\", \"z\", \"example\")\n",
      "a_tuple"
     ],
     "language": "python",
     "prompt_number": 17
    },
    {
     "cell_type": "code",
     "execution_count": null,
     "metadata": {},
     "outputs": [],
     "input": [
      "a_tuple[0]"
     ],
     "language": "python"
    },
    {
     "cell_type": "code",
     "execution_count": null,
     "metadata": {},
     "outputs": [],
     "input": [
      "a_tuple[-1]"
     ],
     "language": "python"
    },
    {
     "cell_type": "code",
     "execution_count": null,
     "metadata": {},
     "outputs": [],
     "input": [
      "a_tuple[1:3]"
     ],
     "language": "python"
    },
    {
     "cell_type": "heading",
     "metadata": {},
     "level": 2,
     "source": [
      "Строки"
     ]
    },
    {
     "cell_type": "markdown",
     "metadata": {},
     "source": [
      "В Python 2.x есть строки двух типов - str и unicode\n",
      "Я рекомендую использовать unicode\n",
      "\n",
      "Строки неизменяемы, к каждому элементу можно обратиться по индексу."
     ]
    },
    {
     "cell_type": "heading",
     "metadata": {},
     "level": 3,
     "source": [
      "Сюрпризы юникода"
     ]
    },
    {
     "cell_type": "code",
     "execution_count": null,
     "metadata": {},
     "outputs": [
      {
       "output_type": "pyout",
       "prompt_number": 4,
       "text": [
        "'hello'"
       ],
       "metadata": {}
      }
     ],
     "input": [
      "just_string = 'hello'\n",
      "just_string"
     ],
     "language": "python",
     "prompt_number": 4
    },
    {
     "cell_type": "code",
     "execution_count": null,
     "metadata": {},
     "outputs": [
      {
       "output_type": "pyout",
       "prompt_number": 5,
       "text": [
        "'bye-bye'"
       ],
       "metadata": {}
      }
     ],
     "input": [
      "another_string = \"bye-bye\"\n",
      "another_string"
     ],
     "language": "python",
     "prompt_number": 5
    },
    {
     "cell_type": "code",
     "execution_count": null,
     "metadata": {},
     "outputs": [
      {
       "output_type": "stream",
       "stream": "stdout",
       "text": [
        "привет\n"
       ]
      }
     ],
     "input": [
      "russian_string = 'привет'\n",
      "print(russian_string)"
     ],
     "language": "python",
     "prompt_number": 8
    },
    {
     "cell_type": "code",
     "execution_count": null,
     "metadata": {},
     "outputs": [
      {
       "output_type": "pyout",
       "prompt_number": 10,
       "text": [
        "'\\xd0\\xbf\\xd1\\x80\\xd0\\xb8\\xd0\\xb2\\xd0\\xb5\\xd1\\x82'"
       ],
       "metadata": {}
      }
     ],
     "input": [
      "russian_string"
     ],
     "language": "python",
     "prompt_number": 10
    },
    {
     "cell_type": "code",
     "execution_count": null,
     "metadata": {},
     "outputs": [
      {
       "output_type": "pyout",
       "prompt_number": 11,
       "text": [
        "str"
       ],
       "metadata": {}
      }
     ],
     "input": [
      "type(russian_string)"
     ],
     "language": "python",
     "prompt_number": 11
    },
    {
     "cell_type": "code",
     "execution_count": null,
     "metadata": {},
     "outputs": [
      {
       "output_type": "pyout",
       "prompt_number": 13,
       "text": [
        "12"
       ],
       "metadata": {}
      }
     ],
     "input": [
      "len(russian_string)"
     ],
     "language": "python",
     "prompt_number": 13
    },
    {
     "cell_type": "markdown",
     "metadata": {},
     "source": [
      "Теперь должно быть понятно, почему юникод лучше\n",
      "\n",
      "Методы работы с unicode почти те же самые и дальше я буду использовать только его"
     ]
    },
    {
     "cell_type": "code",
     "execution_count": null,
     "metadata": {},
     "outputs": [
      {
       "output_type": "pyout",
       "prompt_number": 15,
       "text": [
        "6"
       ],
       "metadata": {}
      }
     ],
     "input": [
      "# coding=utf-8\n",
      "unicode_string = u\"привет\"\n",
      "len(unicode_string)"
     ],
     "language": "python",
     "prompt_number": 15
    },
    {
     "cell_type": "heading",
     "metadata": {},
     "level": 2,
     "source": [
      "Основные методы работы со строками"
     ]
    },
    {
     "cell_type": "markdown",
     "metadata": {},
     "source": [
      "- s.lower(), s.upper()\n",
      "- s.strip()\n",
      "- s.isalpha()/s.isdigit()/s.isspace()\n",
      "- s.startswith('other'), s.endswith('other')\n",
      "- s.find('other')\n",
      "- s.replace('old', 'new')\n",
      "- s.split('delim')\n",
      "- s.join(list)\n",
      "\n",
      "\n",
      "С полным списком можно ознакомиться здесь:\n",
      "https://docs.python.org/2/library/stdtypes.html#string-methods"
     ]
    },
    {
     "cell_type": "code",
     "execution_count": null,
     "metadata": {},
     "outputs": [
      {
       "output_type": "stream",
       "stream": "stdout",
       "text": [
        "Привет\n"
       ]
      }
     ],
     "input": [
      "print(unicode_string.capitalize())"
     ],
     "language": "python",
     "prompt_number": 19
    },
    {
     "cell_type": "code",
     "execution_count": null,
     "metadata": {},
     "outputs": [
      {
       "output_type": "stream",
       "stream": "stdout",
       "text": [
        "ПРИВЕТ\n"
       ]
      }
     ],
     "input": [
      "print(unicode_string.upper())"
     ],
     "language": "python",
     "prompt_number": 17
    },
    {
     "cell_type": "code",
     "execution_count": null,
     "metadata": {},
     "outputs": [],
     "input": [
      ""
     ],
     "language": "python"
    },
    {
     "cell_type": "heading",
     "metadata": {},
     "level": 2,
     "source": [
      "Общие способы работы с последовательностями"
     ]
    },
    {
     "cell_type": "markdown",
     "metadata": {},
     "source": [
      "- x in s #True, если элемент принадлежит s, иначе False\n",
      "\n",
      "- x not in s #True, если элемент не принадлежит s, иначе False\n",
      "\n",
      "- s + t #конкатенация двух последеовательностей\n",
      "\n",
      "- s * n, n * s # n поверхностных копий\n",
      "\n",
      "- s[i] # i-ый элемент последовательности\n",
      "\n",
      "- s[i:j] # срез\n",
      "\n",
      "- s[i:j:k] # срез от i-го элемента(включительно) до j-го элемента (исключительно) с шагом k\n",
      "\n",
      "- len(s) # длина последовательности\n",
      "\n",
      "- min(s) # наименьший элемент последовательности\n",
      "\n",
      "- max(s) # наибольший элемент последовательности\n",
      "\n",
      "- s.index(x) # индекс первого вхождения элемента\n",
      "\n",
      "- s.count(x) # общее количество вхождений данного элемента в последовательность"
     ]
    },
    {
     "cell_type": "heading",
     "metadata": {},
     "level": 2,
     "source": [
      "Упражнение"
     ]
    },
    {
     "cell_type": "markdown",
     "metadata": {},
     "source": [
      "Дан список строк(слов)\n",
      "\n",
      "Определить: \n",
      "\n",
      "- сколько начинаются с заглавной буквы\n",
      "- у скольких первая буква А(а)\n",
      "- сумма индексов буквы А(а)\n",
      "- если слово заканчивается на \"ник\", то заменить в этом слове \"ник\" на \"ничище\"\n",
      "- заменить все слова, меньше 4 символов их удвоенной версией (т.е u'где' -> u'гдегде')\n",
      "- найти самое распространённое слово; если таких слов несколько, то вернуть первое"
     ]
    },
    {
     "cell_type": "code",
     "execution_count": null,
     "metadata": {},
     "outputs": [
      {
       "output_type": "stream",
       "stream": "stdout",
       "text": [
        "В интернете всё больше информации и полезных сервисов от различных организаций и государства которые могут улучшить качество жизни человека Но их сложно найти особенно неопытному пользователю Спутник помогает сделать интернет безопаснее и полезнее решать повседневные задачи делает проще доступ к официальной информации или государственным службам и сервисам в Сети Спутник будет полезен молодым семьям Например подскажет как оформить льготы и избежать бумажной волокиты поможет найти работу Спутник можно сделать стартовой страницей на домашних устройствах это поможет детям познавать мир но оградит от неприличных материалов Спутник будет полезен бабушкам и дедушкам Поиск можно посоветовать пожилым родителям не особо разбирающимся в технологиях чтобы нашли надежного помощника в ежедневных делах и при этом не подцепили в Сети лишнего Спутник подскажет контакты служб и организаций или покажет ТВ прямо на сайте Спутник поможет быть в курсе Покажет новости и телепрограмму подскажет курс валюты или прогноз погоды Спутник поможет осмотреться вокруг Сервисы Спутника помогут лучше узнать район и город найти полезные службы и организации вокруг дома и информацию о них Спутник подскажет решение повседневных проблем Сервис даст ответы на вопросы связанные с государством работой важных служб и учреждений поможет найти официальную информацию и её источники Спутник станет навигатором Например подскажет ближайшую аптеку с необходимым препаратом заправку с выгодной ценой на бензин ветеринарную клинику или районные службы Добро пожаловать на Спутник Пользуйтесь интернетом безопасно и с пользой\n"
       ]
      }
     ],
     "input": [
      "# coding=utf-8\n",
      "import re\n",
      "text = u\"\"\"В интернете всё больше информации и полезных сервисов от различных организаций и государства, которые могут улучшить качество жизни человека. Но их сложно найти, особенно неопытному пользователю.\n",
      "«Спутник» помогает сделать интернет безопаснее и полезнее, решать повседневные задачи, делает проще доступ к официальной информации или государственным службам и сервисам в Сети.\n",
      "«Спутник» будет полезен молодым семьям\n",
      "Например, подскажет, как оформить льготы и избежать бумажной волокиты, поможет найти работу. «Спутник» можно сделать стартовой страницей на домашних устройствах — это поможет детям познавать мир, но оградит от неприличных материалов.\n",
      "«Спутник» будет полезен бабушкам и дедушкам\n",
      "Поиск можно посоветовать пожилым родителям, не особо разбирающимся в технологиях, чтобы нашли надежного помощника в ежедневных делах и при этом не подцепили в Сети лишнего. «Спутник» подскажет контакты служб и организаций или покажет ТВ прямо на сайте.\n",
      "«Спутник» поможет быть в курсе\n",
      "Покажет новости и телепрограмму, подскажет курс валюты или прогноз погоды.\n",
      "«Спутник» поможет осмотреться вокруг\n",
      "Сервисы «Спутника» помогут лучше узнать район и город, найти полезные службы и организации вокруг дома и информацию о них.\n",
      "«Спутник» подскажет решение повседневных проблем\n",
      "Сервис даст ответы на вопросы, связанные с государством, работой важных служб и учреждений, поможет найти официальную информацию и её источники.\n",
      "«Спутник» станет навигатором\n",
      "Например, подскажет ближайшую аптеку с необходимым препаратом, заправку с выгодной ценой на бензин, ветеринарную клинику или районные службы.\n",
      "Добро пожаловать на «Спутник».\n",
      "Пользуйтесь интернетом безопасно и с пользой!\"\"\"\n",
      "list_of_words = re.findall(r'\\w+', text, re.UNICODE)\n",
      "for word in list_of_words:\n",
      "    print word,"
     ],
     "language": "python",
     "prompt_number": 10
    },
    {
     "cell_type": "code",
     "execution_count": null,
     "metadata": {},
     "outputs": [
      {
       "output_type": "stream",
       "stream": "stdout",
       "text": [
        "В\nНо\nСпутник\nСети\nСпутник\nНапример\nСпутник\nСпутник\nПоиск\nСети\nСпутник\nСпутник\nПокажет\nСпутник\nСервисы\nСпутника\nСпутник\nСервис\nСпутник\nНапример\nДобро\nСпутник\nПользуйтесь\n23\n"
       ]
      }
     ],
     "input": [
      "capitalized = 0\n",
      "for word in list_of_words:\n",
      "    if word.capitalize() == word:\n",
      "        print(word)\n",
      "        capitalized += 1\n",
      "        \n",
      "print(capitalized)"
     ],
     "language": "python",
     "prompt_number": 7
    },
    {
     "cell_type": "markdown",
     "metadata": {},
     "source": [
      "Задачка с собеседований: как развернуть строку"
     ]
    },
    {
     "cell_type": "code",
     "execution_count": null,
     "metadata": {},
     "outputs": [],
     "input": [
      ""
     ],
     "language": "python"
    },
    {
     "cell_type": "markdown",
     "metadata": {},
     "source": [
      "Найти наименьший и наибольший элемент в последовательности и сложить их.\n",
      "\n",
      "Как можно сделать это не используя страндартные функции для работы с последовательностями?"
     ]
    },
    {
     "cell_type": "code",
     "execution_count": null,
     "metadata": {},
     "outputs": [],
     "input": [
      ""
     ],
     "language": "python"
    },
    {
     "cell_type": "markdown",
     "metadata": {},
     "source": [
      "Как сделать из строки список"
     ]
    },
    {
     "cell_type": "code",
     "execution_count": null,
     "metadata": {},
     "outputs": [],
     "input": [
      "my_string = u'Ei usu atqui impetus aliquam. Te dolore labores legimus quo, mei et posse euismod sapientem. Ut has partem veritus constituam. Ei nam autem oratio viderer.     '"
     ],
     "language": "python",
     "prompt_number": 19
    },
    {
     "cell_type": "code",
     "execution_count": null,
     "metadata": {},
     "outputs": [
      {
       "output_type": "pyout",
       "prompt_number": 27,
       "text": [
        "[u'Ei usu atqui impetus aliquam',\n u' Te dolore labores legimus quo, mei et posse euismod sapientem',\n u' Ut has partem veritus constituam',\n u' Ei nam autem oratio viderer',\n u'']"
       ],
       "metadata": {}
      }
     ],
     "input": [
      "sentences = my_string.split(u'.')\n",
      "sentences"
     ],
     "language": "python",
     "prompt_number": 27
    },
    {
     "cell_type": "markdown",
     "metadata": {},
     "source": [
      "Теперь сделаем вместо каждого предложения список слов, чтобы получить список списков"
     ]
    },
    {
     "cell_type": "code",
     "execution_count": null,
     "metadata": {},
     "outputs": [],
     "input": [
      "for s in sentences:\n",
      "    ..."
     ],
     "language": "python"
    },
    {
     "cell_type": "heading",
     "metadata": {},
     "level": 2,
     "source": [
      "Словари"
     ]
    },
    {
     "cell_type": "markdown",
     "metadata": {},
     "source": [
      "Словари представляют из себя последовательность пар ключ-значение\n",
      "Важно запомнить, что элементы в словаре не упорядочены."
     ]
    },
    {
     "cell_type": "code",
     "execution_count": null,
     "metadata": {},
     "outputs": [],
     "input": [
      "d = dict()"
     ],
     "language": "python"
    },
    {
     "cell_type": "code",
     "execution_count": null,
     "metadata": {},
     "outputs": [],
     "input": [
      "d = {}"
     ],
     "language": "python"
    },
    {
     "cell_type": "code",
     "execution_count": null,
     "metadata": {},
     "outputs": [],
     "input": [
      "company_dict = {u'developers': 10, u'testers': 3, u'managers': 28}"
     ],
     "language": "python"
    },
    {
     "cell_type": "code",
     "execution_count": null,
     "metadata": {},
     "outputs": [
      {
       "output_type": "pyout",
       "prompt_number": 30,
       "text": [
        "{u'developers': 10, u'managers': 28, u'testers': 3}"
       ],
       "metadata": {}
      }
     ],
     "input": [
      "company_dict"
     ],
     "language": "python",
     "prompt_number": 30
    },
    {
     "cell_type": "markdown",
     "metadata": {},
     "source": [
      "Работа со словарями\n",
      "\n",
      "- len(d)\n",
      "\n",
      "- d[key]\n",
      "\n",
      "- d[key] = value\n",
      "\n",
      "- del d[key]\n",
      "\n",
      "- key in d\n",
      "\n",
      "- key not in d\n",
      "\n",
      "- d.clear()\n",
      "\n",
      "- d.copy()\n",
      "\n",
      "- d.fromkeys(seq[, value])\n",
      "\n",
      "- d.get(key[, default])\n",
      "\n",
      "- d.has_key(key)\n",
      "\n",
      "- d.items()\n",
      "\n",
      "- d.iteritems()\n",
      "\n",
      "- d.iterkeys()\n",
      "\n",
      "- d.itervalues()\n",
      "\n",
      "- d.keys()\n",
      "\n",
      "- d.pop(key[, default])\n",
      "\n",
      "- d.popitem()\n",
      "\n",
      "- d.setdefault(key[, default])\n",
      "\n",
      "- d.update([other])\n",
      "\n",
      "- d.values()\n",
      "\n",
      "- d.viewitems()\n",
      "\n",
      "- d.viewkeys()\n",
      "\n",
      "- d.viewvalues()"
     ]
    },
    {
     "cell_type": "markdown",
     "metadata": {},
     "source": [
      "Задан список новых сотрудников (пара Имя - должость)\n",
      "Необходимо изменить существующий словарь с количеством ролей"
     ]
    },
    {
     "cell_type": "code",
     "execution_count": null,
     "metadata": {},
     "outputs": [],
     "input": [
      "#coding=utf-8\n",
      "new_employees = [(u'Василий', u'managers'), (u'Иннокентий', u'developers'), \n",
      "                 (u'Дмитрий', u'managers'), (u'Поликарп', u'tester'), \n",
      "                 (u'Максим', u'bosses')]"
     ],
     "language": "python",
     "prompt_number": 34
    },
    {
     "cell_type": "code",
     "execution_count": null,
     "metadata": {},
     "outputs": [],
     "input": [
      "for e in new_employees:\n",
      "    ..."
     ],
     "language": "python"
    },
    {
     "cell_type": "markdown",
     "metadata": {},
     "source": [
      "Нужно также быть осторожным при копировании словарей"
     ]
    },
    {
     "cell_type": "code",
     "execution_count": null,
     "metadata": {},
     "outputs": [
      {
       "output_type": "pyout",
       "prompt_number": 36,
       "text": [
        "{'four': 4, 'one': 1, 'three': 3, 'two': 2}"
       ],
       "metadata": {}
      }
     ],
     "input": [
      "d = dict(one=1, two=2, three=3)\n",
      "new_d = d.copy()\n",
      "new_d['four'] = 4\n",
      "d"
     ],
     "language": "python",
     "prompt_number": 36
    },
    {
     "cell_type": "code",
     "execution_count": null,
     "metadata": {},
     "outputs": [
      {
       "output_type": "pyout",
       "prompt_number": 37,
       "text": [
        "{'four': 4, 'one': 1, 'three': 3, 'two': 2}"
       ],
       "metadata": {}
      }
     ],
     "input": [
      "new_d"
     ],
     "language": "python",
     "prompt_number": 37
    },
    {
     "cell_type": "heading",
     "metadata": {},
     "level": 2,
     "source": [
      "Множества"
     ]
    },
    {
     "cell_type": "markdown",
     "metadata": {},
     "source": [
      "Множество (set, frozenset) - неупорядоченный тип данных, который хранит только уникальные элементы"
     ]
    },
    {
     "cell_type": "code",
     "execution_count": null,
     "metadata": {},
     "outputs": [],
     "input": [
      "my_empty_set = set()\n",
      "my_set = {1, 2, 3, 4}"
     ],
     "language": "python"
    },
    {
     "cell_type": "markdown",
     "metadata": {},
     "source": [
      "Вся информация по встроенным типам данных есть в документации\n",
      "https://docs.python.org/2/library/stdtypes.html"
     ]
    },
    {
     "cell_type": "code",
     "execution_count": null,
     "metadata": {},
     "outputs": [],
     "input": [
      ""
     ],
     "language": "python"
    }
   ]
  }
 ],
 "cells": [],
 "metadata": {
  "name": ""
 },
 "nbformat": 3,
 "nbformat_minor": 0
}